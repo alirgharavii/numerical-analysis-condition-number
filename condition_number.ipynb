{
 "cells": [
  {
   "cell_type": "markdown",
   "source": [
    "# Condition Number\n",
    "\n",
    "__author__: alireza gharavi 400222066\n",
    "\n",
    "__course__: Undergraduate Numerical Analysis Course"
   ],
   "metadata": {
    "collapsed": false,
    "pycharm": {
     "name": "#%% md\n"
    }
   }
  },
  {
   "cell_type": "markdown",
   "source": [
    "Calculate condition numbers for given functions in given points:"
   ],
   "metadata": {
    "collapsed": false,
    "pycharm": {
     "name": "#%% md\n"
    }
   }
  },
  {
   "cell_type": "markdown",
   "source": [
    "(a) $f(x) = ln x, x ≈ 2$"
   ],
   "metadata": {
    "collapsed": false,
    "pycharm": {
     "name": "#%% md\n"
    }
   }
  },
  {
   "cell_type": "code",
   "execution_count": 14,
   "outputs": [
    {
     "data": {
      "text/plain": "0.999500249875062/log(2)",
      "text/latex": "$\\displaystyle \\frac{0.999500249875062}{\\log{\\left(2 \\right)}}$"
     },
     "execution_count": 14,
     "metadata": {},
     "output_type": "execute_result"
    }
   ],
   "source": [
    "import sympy as sp\n",
    "point = 2\n",
    "point_lim = point + 0.001\n",
    "x = sp.symbols('x')\n",
    "func = sp.ln(x)\n",
    "condition_func = func.diff().subs(x, point_lim) * x / func\n",
    "condition_number = condition_func.subs(x , point)\n",
    "condition_number"
   ],
   "metadata": {
    "collapsed": false,
    "pycharm": {
     "name": "#%%\n"
    }
   }
  },
  {
   "cell_type": "markdown",
   "source": [
    "(b) $f(x) = 5^x, x ≈ 10$"
   ],
   "metadata": {
    "collapsed": false,
    "pycharm": {
     "name": "#%% md\n"
    }
   }
  },
  {
   "cell_type": "code",
   "execution_count": 15,
   "outputs": [
    {
     "data": {
      "text/plain": "10.0161073375273*log(5)",
      "text/latex": "$\\displaystyle 10.0161073375273 \\log{\\left(5 \\right)}$"
     },
     "execution_count": 15,
     "metadata": {},
     "output_type": "execute_result"
    }
   ],
   "source": [
    "point = 10\n",
    "point_lim = point + 0.001\n",
    "x = sp.symbols('x')\n",
    "func = 5 ** x\n",
    "condition_func = func.diff().subs(x, point_lim) * x / func\n",
    "condition_number = condition_func.subs(x , point)\n",
    "condition_number"
   ],
   "metadata": {
    "collapsed": false,
    "pycharm": {
     "name": "#%%\n"
    }
   }
  },
  {
   "cell_type": "markdown",
   "source": [
    "(c) $f(x) = sin (x), x ≈ 1 $"
   ],
   "metadata": {
    "collapsed": false,
    "pycharm": {
     "name": "#%% md\n"
    }
   }
  },
  {
   "cell_type": "code",
   "execution_count": 16,
   "outputs": [
    {
     "data": {
      "text/plain": "0.539460564872447/sin(1)",
      "text/latex": "$\\displaystyle \\frac{0.539460564872447}{\\sin{\\left(1 \\right)}}$"
     },
     "execution_count": 16,
     "metadata": {},
     "output_type": "execute_result"
    }
   ],
   "source": [
    "point = 1\n",
    "point_lim = point + 0.001\n",
    "x = sp.symbols('x')\n",
    "func = sp.sin(x)\n",
    "condition_func = func.diff().subs(x, point_lim) * x / func\n",
    "condition_number = condition_func.subs(x , point)\n",
    "condition_number"
   ],
   "metadata": {
    "collapsed": false,
    "pycharm": {
     "name": "#%%\n"
    }
   }
  },
  {
   "cell_type": "markdown",
   "source": [
    "(d) $f(x) = sin (10x), x ≈ 1$"
   ],
   "metadata": {
    "collapsed": false,
    "pycharm": {
     "name": "#%% md\n"
    }
   }
  },
  {
   "cell_type": "code",
   "execution_count": 17,
   "outputs": [
    {
     "data": {
      "text/plain": "-8.3358945541045/sin(10)",
      "text/latex": "$\\displaystyle - \\frac{8.3358945541045}{\\sin{\\left(10 \\right)}}$"
     },
     "execution_count": 17,
     "metadata": {},
     "output_type": "execute_result"
    }
   ],
   "source": [
    "point = 1\n",
    "point_lim = point + 0.001\n",
    "x = sp.symbols('x')\n",
    "func = sp.sin(10 * x)\n",
    "condition_func = func.diff().subs(x, point_lim) * x / func\n",
    "condition_number = condition_func.subs(x , point)\n",
    "condition_number"
   ],
   "metadata": {
    "collapsed": false,
    "pycharm": {
     "name": "#%%\n"
    }
   }
  },
  {
   "cell_type": "markdown",
   "source": [
    "## conclusion\n",
    "condition number is a useful tool which tells us how chaotic a function is. and it can be used in different ways."
   ],
   "metadata": {
    "collapsed": false,
    "pycharm": {
     "name": "#%% md\n"
    }
   }
  },
  {
   "cell_type": "code",
   "execution_count": 17,
   "outputs": [],
   "source": [],
   "metadata": {
    "collapsed": false,
    "pycharm": {
     "name": "#%%\n"
    }
   }
  }
 ],
 "metadata": {
  "kernelspec": {
   "display_name": "Python 3",
   "language": "python",
   "name": "python3"
  },
  "language_info": {
   "codemirror_mode": {
    "name": "ipython",
    "version": 2
   },
   "file_extension": ".py",
   "mimetype": "text/x-python",
   "name": "python",
   "nbconvert_exporter": "python",
   "pygments_lexer": "ipython2",
   "version": "2.7.6"
  }
 },
 "nbformat": 4,
 "nbformat_minor": 0
}